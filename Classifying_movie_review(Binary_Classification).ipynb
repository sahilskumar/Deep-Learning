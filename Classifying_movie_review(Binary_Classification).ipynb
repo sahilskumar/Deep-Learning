{
  "nbformat": 4,
  "nbformat_minor": 0,
  "metadata": {
    "colab": {
      "name": "Classifying movie review(Binary Classification).ipynb",
      "version": "0.3.2",
      "provenance": [],
      "include_colab_link": true
    },
    "kernelspec": {
      "name": "python3",
      "display_name": "Python 3"
    },
    "accelerator": "TPU"
  },
  "cells": [
    {
      "cell_type": "markdown",
      "metadata": {
        "id": "view-in-github",
        "colab_type": "text"
      },
      "source": [
        "<a href=\"https://colab.research.google.com/github/sahilskumar/Deep-Learning/blob/master/Classifying_movie_review(Binary_Classification).ipynb\" target=\"_parent\"><img src=\"https://colab.research.google.com/assets/colab-badge.svg\" alt=\"Open In Colab\"/></a>"
      ]
    },
    {
      "cell_type": "code",
      "metadata": {
        "id": "dIzXI7pK9lYZ",
        "colab_type": "code",
        "colab": {}
      },
      "source": [
        "from keras.datasets import imdb\n",
        "\n",
        "(train_data, train_labels), (test_data, test_labels) = imdb.load_data(num_words=10000)"
      ],
      "execution_count": 0,
      "outputs": []
    },
    {
      "cell_type": "code",
      "metadata": {
        "id": "cmwPLh3Z-itl",
        "colab_type": "code",
        "colab": {}
      },
      "source": [
        "# word_index is a dictionary mapping words to an integer index\n",
        "word_index = imdb.get_word_index()\n",
        "# We reverse it, mapping integer indices to words\n",
        "reverse_word_index = dict([(value, key) for (key, value) in word_index.items()])\n",
        "# We decode the review; note that our indices were offset by 3\n",
        "# because 0, 1 and 2 are reserved indices for \"padding\", \"start of sequence\", and \"unknown\".\n",
        "decoded_review = ' '.join([reverse_word_index.get(i - 3, '?') for i in train_data[0]])"
      ],
      "execution_count": 0,
      "outputs": []
    },
    {
      "cell_type": "code",
      "metadata": {
        "id": "zPoCWzZK_aFC",
        "colab_type": "code",
        "colab": {
          "base_uri": "https://localhost:8080/",
          "height": 53
        },
        "outputId": "13c058b6-4b93-4761-896d-ec6f1da4d7e8"
      },
      "source": [
        "decoded_review"
      ],
      "execution_count": 13,
      "outputs": [
        {
          "output_type": "execute_result",
          "data": {
            "text/plain": [
              "\"? this film was just brilliant casting location scenery story direction everyone's really suited the part they played and you could just imagine being there robert ? is an amazing actor and now the same being director ? father came from the same scottish island as myself so i loved the fact there was a real connection with this film the witty remarks throughout the film were great it was just brilliant so much that i bought the film as soon as it was released for ? and would recommend it to everyone to watch and the fly fishing was amazing really cried at the end it was so sad and you know what they say if you cry at a film it must have been good and this definitely was also ? to the two little boy's that played the ? of norman and paul they were just brilliant children are often left out of the ? list i think because the stars that play them all grown up are such a big profile for the whole film but these children are amazing and should be praised for what they have done don't you think the whole story was so lovely because it was true and was someone's life after all that was shared with us all\""
            ]
          },
          "metadata": {
            "tags": []
          },
          "execution_count": 13
        }
      ]
    },
    {
      "cell_type": "markdown",
      "metadata": {
        "id": "QcWu5CZR_e1p",
        "colab_type": "text"
      },
      "source": [
        "# **1. Preparaing the Data**"
      ]
    },
    {
      "cell_type": "code",
      "metadata": {
        "id": "iEoyqdHv_lvj",
        "colab_type": "code",
        "colab": {}
      },
      "source": [
        "import numpy as np\n",
        "\n",
        "def vectorize_sequences(sequences, dimension=10000):\n",
        "    # Create an all-zero matrix of shape (len(sequences), dimension)\n",
        "    results = np.zeros((len(sequences), dimension))\n",
        "    for i, sequence in enumerate(sequences):\n",
        "        results[i, sequence] = 1.  # set specific indices of results[i] to 1s\n",
        "    return results\n",
        "\n",
        "# Our vectorized training data\n",
        "x_train = vectorize_sequences(train_data)\n",
        "# Our vectorized test data\n",
        "x_test = vectorize_sequences(test_data)"
      ],
      "execution_count": 0,
      "outputs": []
    },
    {
      "cell_type": "code",
      "metadata": {
        "id": "Q8jyyrycA0ui",
        "colab_type": "code",
        "colab": {
          "base_uri": "https://localhost:8080/",
          "height": 33
        },
        "outputId": "5b10635d-dc52-4713-a974-0591c785e482"
      },
      "source": [
        "x_train[0]"
      ],
      "execution_count": 15,
      "outputs": [
        {
          "output_type": "execute_result",
          "data": {
            "text/plain": [
              "array([0., 1., 1., ..., 0., 0., 0.])"
            ]
          },
          "metadata": {
            "tags": []
          },
          "execution_count": 15
        }
      ]
    },
    {
      "cell_type": "code",
      "metadata": {
        "id": "Z8ISG3tFA7Bx",
        "colab_type": "code",
        "colab": {}
      },
      "source": [
        "# Our vectorized labels\n",
        "y_train = np.asarray(train_labels).astype('float32')\n",
        "y_test = np.asarray(test_labels).astype('float32')"
      ],
      "execution_count": 0,
      "outputs": []
    },
    {
      "cell_type": "markdown",
      "metadata": {
        "id": "m7Tx6jfMA8Te",
        "colab_type": "text"
      },
      "source": [
        "# **2.Building our Network**"
      ]
    },
    {
      "cell_type": "code",
      "metadata": {
        "id": "BxsZ521aBDaY",
        "colab_type": "code",
        "colab": {}
      },
      "source": [
        "from keras import models\n",
        "from keras import layers\n",
        "\n",
        "model = models.Sequential()\n",
        "model.add(layers.Dense(16, activation='relu', input_shape=(10000,)))\n",
        "model.add(layers.Dense(16, activation='relu'))\n",
        "model.add(layers.Dense(1, activation='sigmoid'))"
      ],
      "execution_count": 0,
      "outputs": []
    },
    {
      "cell_type": "code",
      "metadata": {
        "id": "hf3WXazSBQkf",
        "colab_type": "code",
        "colab": {}
      },
      "source": [
        "model.compile(optimizer='rmsprop',\n",
        "              loss='binary_crossentropy',\n",
        "              metrics=['accuracy'])"
      ],
      "execution_count": 0,
      "outputs": []
    },
    {
      "cell_type": "code",
      "metadata": {
        "id": "lZomoCEoBV-3",
        "colab_type": "code",
        "colab": {}
      },
      "source": [
        "from keras import optimizers\n",
        "\n",
        "model.compile(optimizer=optimizers.RMSprop(lr=0.001),\n",
        "              loss='binary_crossentropy',\n",
        "              metrics=['accuracy'])"
      ],
      "execution_count": 0,
      "outputs": []
    },
    {
      "cell_type": "markdown",
      "metadata": {
        "id": "YlMyYa-FBfhM",
        "colab_type": "text"
      },
      "source": [
        "# 3.Validating Our **Approach**"
      ]
    },
    {
      "cell_type": "code",
      "metadata": {
        "id": "6P1Pr8WWBjkz",
        "colab_type": "code",
        "colab": {}
      },
      "source": [
        "x_val = x_train[:10000]\n",
        "partial_x_train = x_train[10000:]\n",
        "\n",
        "y_val = y_train[:10000]\n",
        "partial_y_train = y_train[10000:]"
      ],
      "execution_count": 0,
      "outputs": []
    },
    {
      "cell_type": "code",
      "metadata": {
        "id": "-bkXESG4Bpus",
        "colab_type": "code",
        "colab": {
          "base_uri": "https://localhost:8080/",
          "height": 766
        },
        "outputId": "37dd1a3a-f523-4848-c073-785bb881f18e"
      },
      "source": [
        "history = model.fit(partial_x_train,\n",
        "                    partial_y_train,\n",
        "                    epochs=20,\n",
        "                    batch_size=512,\n",
        "                    validation_data=(x_val, y_val))"
      ],
      "execution_count": 21,
      "outputs": [
        {
          "output_type": "stream",
          "text": [
            "WARNING:tensorflow:From /usr/local/lib/python3.6/dist-packages/tensorflow/python/ops/math_ops.py:3066: to_int32 (from tensorflow.python.ops.math_ops) is deprecated and will be removed in a future version.\n",
            "Instructions for updating:\n",
            "Use tf.cast instead.\n",
            "Train on 15000 samples, validate on 10000 samples\n",
            "Epoch 1/20\n",
            "15000/15000 [==============================] - 2s 158us/step - loss: 0.5088 - acc: 0.7815 - val_loss: 0.3798 - val_acc: 0.8692\n",
            "Epoch 2/20\n",
            "15000/15000 [==============================] - 2s 153us/step - loss: 0.3006 - acc: 0.9053 - val_loss: 0.3006 - val_acc: 0.8899\n",
            "Epoch 3/20\n",
            "15000/15000 [==============================] - 2s 152us/step - loss: 0.2180 - acc: 0.9279 - val_loss: 0.3087 - val_acc: 0.8710\n",
            "Epoch 4/20\n",
            "15000/15000 [==============================] - 2s 153us/step - loss: 0.1750 - acc: 0.9436 - val_loss: 0.2841 - val_acc: 0.8839\n",
            "Epoch 5/20\n",
            "15000/15000 [==============================] - 2s 153us/step - loss: 0.1426 - acc: 0.9541 - val_loss: 0.2847 - val_acc: 0.8867\n",
            "Epoch 6/20\n",
            "15000/15000 [==============================] - 2s 152us/step - loss: 0.1150 - acc: 0.9652 - val_loss: 0.3142 - val_acc: 0.8777\n",
            "Epoch 7/20\n",
            "15000/15000 [==============================] - 2s 154us/step - loss: 0.0980 - acc: 0.9703 - val_loss: 0.3127 - val_acc: 0.8844\n",
            "Epoch 8/20\n",
            "15000/15000 [==============================] - 2s 152us/step - loss: 0.0807 - acc: 0.9763 - val_loss: 0.3853 - val_acc: 0.8656\n",
            "Epoch 9/20\n",
            "15000/15000 [==============================] - 2s 153us/step - loss: 0.0661 - acc: 0.9822 - val_loss: 0.3634 - val_acc: 0.8779\n",
            "Epoch 10/20\n",
            "15000/15000 [==============================] - 2s 152us/step - loss: 0.0558 - acc: 0.9852 - val_loss: 0.3841 - val_acc: 0.8791\n",
            "Epoch 11/20\n",
            "15000/15000 [==============================] - 2s 151us/step - loss: 0.0448 - acc: 0.9887 - val_loss: 0.4157 - val_acc: 0.8774\n",
            "Epoch 12/20\n",
            "15000/15000 [==============================] - 2s 152us/step - loss: 0.0385 - acc: 0.9915 - val_loss: 0.4506 - val_acc: 0.8695\n",
            "Epoch 13/20\n",
            "15000/15000 [==============================] - 2s 150us/step - loss: 0.0299 - acc: 0.9930 - val_loss: 0.4694 - val_acc: 0.8725\n",
            "Epoch 14/20\n",
            "15000/15000 [==============================] - 2s 152us/step - loss: 0.0246 - acc: 0.9947 - val_loss: 0.5024 - val_acc: 0.8718\n",
            "Epoch 15/20\n",
            "15000/15000 [==============================] - 2s 153us/step - loss: 0.0173 - acc: 0.9982 - val_loss: 0.5633 - val_acc: 0.8647\n",
            "Epoch 16/20\n",
            "15000/15000 [==============================] - 2s 153us/step - loss: 0.0182 - acc: 0.9963 - val_loss: 0.5777 - val_acc: 0.8692\n",
            "Epoch 17/20\n",
            "15000/15000 [==============================] - 2s 154us/step - loss: 0.0092 - acc: 0.9993 - val_loss: 0.6047 - val_acc: 0.8676\n",
            "Epoch 18/20\n",
            "15000/15000 [==============================] - 2s 154us/step - loss: 0.0107 - acc: 0.9981 - val_loss: 0.6394 - val_acc: 0.8668\n",
            "Epoch 19/20\n",
            "15000/15000 [==============================] - 2s 153us/step - loss: 0.0068 - acc: 0.9993 - val_loss: 0.7501 - val_acc: 0.8552\n",
            "Epoch 20/20\n",
            "15000/15000 [==============================] - 2s 154us/step - loss: 0.0043 - acc: 0.9999 - val_loss: 0.7013 - val_acc: 0.8645\n"
          ],
          "name": "stdout"
        }
      ]
    },
    {
      "cell_type": "code",
      "metadata": {
        "id": "Y_LRDY7yB5HW",
        "colab_type": "code",
        "colab": {
          "base_uri": "https://localhost:8080/",
          "height": 33
        },
        "outputId": "d59326f3-872d-4f9d-88d0-9c0f00f04b87"
      },
      "source": [
        "history_dict = history.history\n",
        "history_dict.keys()"
      ],
      "execution_count": 22,
      "outputs": [
        {
          "output_type": "execute_result",
          "data": {
            "text/plain": [
              "dict_keys(['val_loss', 'val_acc', 'loss', 'acc'])"
            ]
          },
          "metadata": {
            "tags": []
          },
          "execution_count": 22
        }
      ]
    },
    {
      "cell_type": "code",
      "metadata": {
        "id": "IbWFKUZdB_dx",
        "colab_type": "code",
        "colab": {
          "base_uri": "https://localhost:8080/",
          "height": 295
        },
        "outputId": "80c5572d-1ef6-4e30-94c4-c569d78d7b26"
      },
      "source": [
        "import matplotlib.pyplot as plt\n",
        "\n",
        "acc = history.history['acc']\n",
        "val_acc = history.history['val_acc']\n",
        "loss = history.history['loss']\n",
        "val_loss = history.history['val_loss']\n",
        "\n",
        "epochs = range(1, len(acc) + 1)\n",
        "\n",
        "# \"bo\" is for \"blue dot\"\n",
        "plt.plot(epochs, loss, 'bo', label='Training loss')\n",
        "# b is for \"solid blue line\"\n",
        "plt.plot(epochs, val_loss, 'b', label='Validation loss')\n",
        "plt.title('Training and validation loss')\n",
        "plt.xlabel('Epochs')\n",
        "plt.ylabel('Loss')\n",
        "plt.legend()\n",
        "\n",
        "plt.show()"
      ],
      "execution_count": 23,
      "outputs": [
        {
          "output_type": "display_data",
          "data": {
            "image/png": "[encoded data removed]",
            "text/plain": [
              "<Figure size 432x288 with 1 Axes>"
            ]
          },
          "metadata": {
            "tags": []
          }
        }
      ]
    },
    {
      "cell_type": "code",
      "metadata": {
        "id": "KfDe2a4MCXX5",
        "colab_type": "code",
        "colab": {
          "base_uri": "https://localhost:8080/",
          "height": 295
        },
        "outputId": "cab93e8e-c02b-4dfc-f12e-e4545e51ba5b"
      },
      "source": [
        "plt.clf()   # clear figure\n",
        "acc_values = history_dict['acc']\n",
        "val_acc_values = history_dict['val_acc']\n",
        "\n",
        "plt.plot(epochs, acc, 'bo', label='Training acc')\n",
        "plt.plot(epochs, val_acc, 'b', label='Validation acc')\n",
        "plt.title('Training and validation accuracy')\n",
        "plt.xlabel('Epochs')\n",
        "plt.ylabel('Loss')\n",
        "plt.legend()\n",
        "\n",
        "plt.show()\n"
      ],
      "execution_count": 24,
      "outputs": [
        {
          "output_type": "display_data",
          "data": {
            "image/png": "[encoded data removed]",
            "text/plain": [
              "<Figure size 432x288 with 1 Axes>"
            ]
          },
          "metadata": {
            "tags": []
          }
        }
      ]
    },
    {
      "cell_type": "code",
      "metadata": {
        "id": "8iMCkP0XCofE",
        "colab_type": "code",
        "colab": {
          "base_uri": "https://localhost:8080/",
          "height": 166
        },
        "outputId": "dfbe8376-60d7-465c-dc5c-fb7b3003b828"
      },
      "source": [
        "model = models.Sequential()\n",
        "model.add(layers.Dense(16, activation='relu', input_shape=(10000,)))\n",
        "model.add(layers.Dense(16, activation='relu'))\n",
        "model.add(layers.Dense(1, activation='sigmoid'))\n",
        "\n",
        "model.compile(optimizer='rmsprop',\n",
        "              loss='binary_crossentropy',\n",
        "              metrics=['accuracy'])\n",
        "\n",
        "model.fit(x_train, y_train, epochs=4, batch_size=512)\n",
        "results = model.evaluate(x_test, y_test)"
      ],
      "execution_count": 25,
      "outputs": [
        {
          "output_type": "stream",
          "text": [
            "Epoch 1/4\n",
            "25000/25000 [==============================] - 3s 113us/step - loss: 0.4737 - acc: 0.8221\n",
            "Epoch 2/4\n",
            "25000/25000 [==============================] - 3s 116us/step - loss: 0.2673 - acc: 0.9093\n",
            "Epoch 3/4\n",
            "25000/25000 [==============================] - 3s 113us/step - loss: 0.2031 - acc: 0.9286\n",
            "Epoch 4/4\n",
            "25000/25000 [==============================] - 3s 114us/step - loss: 0.1709 - acc: 0.9389\n",
            "25000/25000 [==============================] - 2s 73us/step\n"
          ],
          "name": "stdout"
        }
      ]
    },
    {
      "cell_type": "code",
      "metadata": {
        "id": "CM5E9oG0CyGT",
        "colab_type": "code",
        "colab": {
          "base_uri": "https://localhost:8080/",
          "height": 33
        },
        "outputId": "9daab9a5-f639-465c-9dd8-a9d640d9ecdd"
      },
      "source": [
        "results"
      ],
      "execution_count": 26,
      "outputs": [
        {
          "output_type": "execute_result",
          "data": {
            "text/plain": [
              "[0.3129223653030396, 0.87548]"
            ]
          },
          "metadata": {
            "tags": []
          },
          "execution_count": 26
        }
      ]
    },
    {
      "cell_type": "code",
      "metadata": {
        "id": "mZWQ5GTdDOYw",
        "colab_type": "code",
        "colab": {
          "base_uri": "https://localhost:8080/",
          "height": 133
        },
        "outputId": "8113462b-bc68-44c5-9064-01f432cfa487"
      },
      "source": [
        "model.predict(x_test)"
      ],
      "execution_count": 27,
      "outputs": [
        {
          "output_type": "execute_result",
          "data": {
            "text/plain": [
              "array([[0.1609841 ],\n",
              "       [0.999844  ],\n",
              "       [0.39394498],\n",
              "       ...,\n",
              "       [0.07958072],\n",
              "       [0.04840788],\n",
              "       [0.45446575]], dtype=float32)"
            ]
          },
          "metadata": {
            "tags": []
          },
          "execution_count": 27
        }
      ]
    }
  ]
}